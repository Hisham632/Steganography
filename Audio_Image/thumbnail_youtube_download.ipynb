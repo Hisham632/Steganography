{
 "cells": [
  {
   "cell_type": "code",
   "execution_count": 1,
   "metadata": {},
   "outputs": [
    {
     "name": "stdout",
     "output_type": "stream",
     "text": [
      "Thumbnail downloaded successfully from https://img.youtube.com/vi/T9qFAuuQTFE/maxresdefault.jpg and saved as ./Files/Images/Dreams pt II.png\n"
     ]
    },
    {
     "data": {
      "text/plain": [
       "True"
      ]
     },
     "execution_count": 1,
     "metadata": {},
     "output_type": "execute_result"
    }
   ],
   "source": [
    "import requests\n",
    "\n",
    "def download_youtube_thumbnail(video_url, save_path):\n",
    "    try:\n",
    "        # Extract the video ID from the YouTube URL\n",
    "        if \"youtube.com\" in video_url:\n",
    "            video_id = video_url.split(\"v=\")[1].split(\"&\")[0]\n",
    "        elif \"youtu.be\" in video_url:\n",
    "            video_id = video_url.split(\"/\")[-1]\n",
    "        else:\n",
    "            print(\"Invalid YouTube URL\")\n",
    "            return False\n",
    "        \n",
    "        # List of potential thumbnail URLs in quality order\n",
    "        thumbnail_urls = [\n",
    "            f\"https://img.youtube.com/vi/{video_id}/maxresdefault.jpg\",  # Best quality\n",
    "            f\"https://img.youtube.com/vi/{video_id}/hqdefault.jpg\",     # High quality\n",
    "            f\"https://img.youtube.com/vi/{video_id}/mqdefault.jpg\",     # Medium quality\n",
    "            f\"https://img.youtube.com/vi/{video_id}/sddefault.jpg\"      # Standard quality\n",
    "        ]\n",
    "        \n",
    "        # Try each URL until a valid one is found\n",
    "        for url in thumbnail_urls:\n",
    "            response = requests.get(url)\n",
    "            if response.status_code == 200:\n",
    "                # Save the image to the specified path\n",
    "                with open(save_path, \"wb\") as file:\n",
    "                    file.write(response.content)\n",
    "                print(f\"Thumbnail downloaded successfully from {url} and saved as {save_path}\")\n",
    "                return True\n",
    "            else:\n",
    "                print(f\"Thumbnail not available at {url}. Trying next...\")\n",
    "        \n",
    "        print(\"Failed to download any thumbnail.\")\n",
    "        return False\n",
    "\n",
    "    except Exception as e:\n",
    "        print(f\"An error occurred: {e}\")\n",
    "        return False\n",
    "\n",
    "# Example usage\n",
    "video_url = \"https://www.youtube.com/watch?v=T9qFAuuQTFE&ab_channel=LostSky-Topic\"  # Example video\n",
    "save_path = \"./Files/Images/Dreams pt II.png\"\n",
    "download_youtube_thumbnail(video_url, save_path)\n"
   ]
  },
  {
   "cell_type": "markdown",
   "metadata": {},
   "source": [
    "**Download Youtube MP3**"
   ]
  },
  {
   "cell_type": "code",
   "execution_count": 2,
   "metadata": {},
   "outputs": [
    {
     "name": "stdout",
     "output_type": "stream",
     "text": [
      "[youtube] Extracting URL: https://www.youtube.com/watch?v=T9qFAuuQTFE&ab_channel=LostSky-Topic\n",
      "[youtube] T9qFAuuQTFE: Downloading webpage\n",
      "[youtube] T9qFAuuQTFE: Downloading tv player API JSON\n",
      "[youtube] T9qFAuuQTFE: Downloading ios player API JSON\n",
      "[youtube] T9qFAuuQTFE: Downloading player 1080ef44\n",
      "[youtube] T9qFAuuQTFE: Downloading m3u8 information\n",
      "[info] T9qFAuuQTFE: Downloading 1 format(s): 251\n",
      "[download] Destination: Files\\Audio\\Dreams pt II.mp3\n",
      "[download] 100% of    3.47MiB in 00:00:00 at 4.92MiB/s   \n",
      "[ExtractAudio] Destination: Files\\Audio\\Dreams pt II.mp3.mp3\n",
      "Deleting original file Files\\Audio\\Dreams pt II.mp3 (pass -k to keep)\n",
      "Audio successfully downloaded and saved to ./Files/Audio/Dreams pt II.mp3\n"
     ]
    },
    {
     "data": {
      "text/plain": [
       "True"
      ]
     },
     "execution_count": 2,
     "metadata": {},
     "output_type": "execute_result"
    }
   ],
   "source": [
    "import yt_dlp\n",
    "\n",
    "def download_youtube_audio(video_url, save_path):\n",
    "    try:\n",
    "        # Define yt-dlp options for audio extraction and MP3 conversion\n",
    "        ydl_opts = {\n",
    "            'format': 'bestaudio/best',  # Select the best audio quality\n",
    "            'postprocessors': [\n",
    "                {  # Convert to MP3\n",
    "                    'key': 'FFmpegExtractAudio',\n",
    "                    'preferredcodec': 'mp3',\n",
    "                    'preferredquality': '192',  # Set MP3 quality\n",
    "                }\n",
    "            ],\n",
    "            'outtmpl': save_path,  # Set output file path\n",
    "            'quiet': False,  # Show yt-dlp logs (set to True for no logs)\n",
    "        }\n",
    "\n",
    "        # Download and process the audio\n",
    "        with yt_dlp.YoutubeDL(ydl_opts) as ydl:\n",
    "            ydl.download([video_url])\n",
    "        print(f\"Audio successfully downloaded and saved to {save_path}\")\n",
    "        return True\n",
    "\n",
    "    except Exception as e:\n",
    "        print(f\"An error occurred: {e}\")\n",
    "        return False\n",
    "\n",
    "\n",
    "save_path = \"./Files/Audio/Dreams pt II.mp3\"\n",
    "\n",
    "download_youtube_audio(video_url, save_path)\n"
   ]
  }
 ],
 "metadata": {
  "kernelspec": {
   "display_name": "Python 3",
   "language": "python",
   "name": "python3"
  },
  "language_info": {
   "codemirror_mode": {
    "name": "ipython",
    "version": 3
   },
   "file_extension": ".py",
   "mimetype": "text/x-python",
   "name": "python",
   "nbconvert_exporter": "python",
   "pygments_lexer": "ipython3",
   "version": "3.9.7"
  }
 },
 "nbformat": 4,
 "nbformat_minor": 2
}
