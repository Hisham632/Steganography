{
 "cells": [
  {
   "cell_type": "code",
   "execution_count": 6,
   "metadata": {},
   "outputs": [],
   "source": [
    "import numpy as np\n",
    "from PIL import Image\n",
    "from bitarray import bitarray\n",
    "import math"
   ]
  },
  {
   "cell_type": "code",
   "execution_count": 7,
   "metadata": {},
   "outputs": [],
   "source": [
    "def file_To_Bits(path):\n",
    "    with open(path,'r+b') as file:\n",
    "        file_bytes=file.read()\n",
    "    \n",
    "    bits=bitarray()\n",
    "    bits.frombytes(file_bytes)\n",
    "    return bits.tolist()\n",
    "\n",
    "def bits_To_File(path,output_bits):\n",
    "    outputFile_bits=bitarray(output_bits)\n",
    "\n",
    "    with open(path,'wb') as file:\n",
    "        outputFile_bits.tofile(file)\n",
    "    "
   ]
  },
  {
   "cell_type": "code",
   "execution_count": 8,
   "metadata": {},
   "outputs": [],
   "source": [
    "def embedding_Audio(audio_path, carrier_image_path, output_image):\n",
    "    audio_bits=file_To_Bits(audio_path)\n",
    "\n",
    "    image=Image.open(carrier_image_path).convert(\"RGB\")\n",
    "    decoded_image=np.array(image,dtype=np.uint8)\n",
    "\n",
    "    rows, col, channels=decoded_image.shape\n",
    "    decoded_image=decoded_image.reshape(-1,3)\n",
    "\n",
    "    image_bit_capacity=decoded_image.shape[0]*3 # rows * col * 3, The number of LSB bits available, not the entire image bits\n",
    "    print(f\"Carrier image dimensions: {rows}x{col}\")\n",
    "    print(f\"Image bit capacity: {image_bit_capacity} bits\")\n",
    "\n",
    "    audio_bits_capacity= 32 +len(audio_bits)\n",
    "\n",
    "    if audio_bits_capacity>image_bit_capacity:\n",
    "        difference=math.ceil(math.sqrt(audio_bits_capacity/image_bit_capacity))\n",
    "        image_resize=Image.open(carrier_image_path)\n",
    "        image_resize=image_resize.resize((image.width*difference,image.height*difference))\n",
    "        image_resize.save(carrier_image_path)\n",
    "\n",
    "        raise ValueError(f\"Image resized to {image_resize.width}x{image_resize.height}\")\n",
    "\n",
    "    audio_length_bits = bitarray()\n",
    "    audio_length_bits.frombytes(len(audio_bits).to_bytes(4, byteorder='big'))\n",
    "\n",
    "\n",
    "    audio_payload_bits = audio_length_bits.tolist() + audio_bits \n",
    "    print(f\"Audio payload capacity: {audio_payload_bits} bits\")\n",
    "\n",
    "    # Embeding Audio bits into the LSBs of the carrier image RGB pixel values\n",
    "    bit_index=0\n",
    "    for pixel in decoded_image:\n",
    "        for channel in range(3):\n",
    "            if bit_index < len(audio_payload_bits):\n",
    "\n",
    "                pixel[channel]= (pixel[channel] & 0xFE) | audio_payload_bits[bit_index]\n",
    "                bit_index+=1\n",
    "            else:\n",
    "                break\n",
    "        if bit_index>len(audio_payload_bits):\n",
    "            break\n",
    "\n",
    "        \n",
    "    encoded_image = decoded_image.reshape(rows, col, 3)\n",
    "    embedded_Image = Image.fromarray(encoded_image, \"RGB\")\n",
    "    embedded_Image.save(output_image)\n",
    "    print(f\"Embedded image saved as {output_image}\")\n",
    "\n",
    "\n",
    "\n"
   ]
  },
  {
   "cell_type": "code",
   "execution_count": 9,
   "metadata": {},
   "outputs": [],
   "source": [
    "def audio_extractor(embedded_image_path, output_audio_path):\n",
    "    image=Image.open(embedded_image_path).convert(\"RGB\")\n",
    "    decoded_image=np.array(image,dtype=np.uint8)\n",
    "\n",
    "    decoded_image=decoded_image.reshape(-1,3)\n",
    "    extracted_bits=[]\n",
    "    # We extract all the LSBs of the image\n",
    "    for pixel in decoded_image:\n",
    "        for channel in range(3):\n",
    "            extracted_bits.append(pixel[channel] & 1)\n",
    "            \n",
    "    length_bits = bitarray(extracted_bits[:32], endian='big')\n",
    "    audio_length = int.from_bytes(length_bits.tobytes(), byteorder='big')\n",
    "\n",
    "    print(f\"Audio length: {audio_length} bits\")\n",
    "    \n",
    "\n",
    "    bits_To_File(output_audio_path,extracted_bits[32:(audio_length+32)])\n",
    "    print(f\"Recovered Audio file saved as {output_audio_path}\")"
   ]
  },
  {
   "cell_type": "code",
   "execution_count": null,
   "metadata": {},
   "outputs": [],
   "source": [
    "audio_path=\"./Files/Audio/Dreams pt II.mp3\"\n",
    "carrier_image_path=\"./Files/Images/Dreams pt II.png\"\n",
    "output_image_path=\"./Files/Embedded/Dreams pt II.png\"\n",
    "\n",
    "embedding_Audio(audio_path,carrier_image_path,output_image_path)\n",
    "\n"
   ]
  },
  {
   "cell_type": "code",
   "execution_count": null,
   "metadata": {},
   "outputs": [],
   "source": [
    "extracted_audio=\"./Files/Embedded/Dreams pt II.mp3\"\n",
    "\n",
    "audio_extractor(output_image_path,extracted_audio)"
   ]
  }
 ],
 "metadata": {
  "kernelspec": {
   "display_name": "Python 3",
   "language": "python",
   "name": "python3"
  },
  "language_info": {
   "codemirror_mode": {
    "name": "ipython",
    "version": 3
   },
   "file_extension": ".py",
   "mimetype": "text/x-python",
   "name": "python",
   "nbconvert_exporter": "python",
   "pygments_lexer": "ipython3",
   "version": "3.9.7"
  }
 },
 "nbformat": 4,
 "nbformat_minor": 2
}
