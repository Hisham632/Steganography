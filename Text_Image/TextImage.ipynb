{
 "cells": [
  {
   "cell_type": "code",
   "execution_count": null,
   "metadata": {},
   "outputs": [],
   "source": [
    "import numpy as np\n",
    "from PIL import Image\n",
    "from bitarray import bitarray\n",
    "import math"
   ]
  },
  {
   "cell_type": "code",
   "execution_count": null,
   "metadata": {},
   "outputs": [],
   "source": [
    "def file_To_Bits(path):\n",
    "    with open(path,'r+b') as file:\n",
    "        file_bytes=file.read()\n",
    "    \n",
    "    bits=bitarray()\n",
    "    bits.frombytes(file_bytes)\n",
    "    return bits.tolist()\n",
    "\n",
    "def bits_To_File(path,output_bits):\n",
    "    outputFile_bits=bitarray(output_bits)\n",
    "\n",
    "    with open(path,'wb') as file:\n",
    "        outputFile_bits.tofile(file)\n",
    "    "
   ]
  },
  {
   "cell_type": "code",
   "execution_count": null,
   "metadata": {},
   "outputs": [],
   "source": [
    "def embedding_Text():\n",
    "    pass"
   ]
  }
 ],
 "metadata": {
  "kernelspec": {
   "display_name": "Python 3",
   "language": "python",
   "name": "python3"
  },
  "language_info": {
   "codemirror_mode": {
    "name": "ipython",
    "version": 3
   },
   "file_extension": ".py",
   "mimetype": "text/x-python",
   "name": "python",
   "nbconvert_exporter": "python",
   "pygments_lexer": "ipython3",
   "version": "3.9.7"
  }
 },
 "nbformat": 4,
 "nbformat_minor": 2
}
